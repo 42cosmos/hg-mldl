{
 "cells": [
  {
   "cell_type": "markdown",
   "metadata": {},
   "source": [
    "## SGD Classifier\n",
    "사이킷런에서 확률적 경사 하강법을 제공하는 대표적 분류용 클래스  \n",
    "전달된 훈련 세트에서 1개씩 샘플을 꺼내어 경사하강법 단계를 수행한다.   \n",
    "일정 에포크동안 성능이 향상되지 않으면 더 훈련하지 않고 자동으로 멈춘다.  "
   ]
  },
  {
   "cell_type": "code",
   "execution_count": 1,
   "metadata": {},
   "outputs": [
    {
     "data": {
      "text/plain": [
       "(159, 6)"
      ]
     },
     "execution_count": 1,
     "metadata": {},
     "output_type": "execute_result"
    }
   ],
   "source": [
    "import pandas as pd\n",
    "fish = pd.read_csv('https://bit.ly/fish_csv')\n",
    "fish.shape"
   ]
  },
  {
   "cell_type": "code",
   "execution_count": 3,
   "metadata": {},
   "outputs": [
    {
     "data": {
      "text/plain": [
       "Index(['Species', 'Weight', 'Length', 'Diagonal', 'Height', 'Width'], dtype='object')"
      ]
     },
     "execution_count": 3,
     "metadata": {},
     "output_type": "execute_result"
    }
   ],
   "source": [
    "fish.columns"
   ]
  },
  {
   "cell_type": "code",
   "execution_count": 6,
   "metadata": {},
   "outputs": [],
   "source": [
    "fish_input = fish[fish.columns[1:]].to_numpy()\n",
    "fish_target = fish[fish.columns[0]].to_numpy()"
   ]
  },
  {
   "cell_type": "code",
   "execution_count": 7,
   "metadata": {},
   "outputs": [],
   "source": [
    "from sklearn.model_selection import train_test_split\n",
    "train_input, test_input, train_target, test_target = train_test_split(fish_input, fish_target, random_state=42) "
   ]
  },
  {
   "cell_type": "markdown",
   "metadata": {},
   "source": [
    "트레인, 테스트 셋의 특성을 표준화 전처리를 시켜준다.   \n",
    "반드시 트레인 셋에서 학습한 통계 값으로 테스트 셋을 변환시켜주어야 한다!!!"
   ]
  },
  {
   "cell_type": "code",
   "execution_count": 8,
   "metadata": {},
   "outputs": [
    {
     "data": {
      "text/plain": [
       "StandardScaler()"
      ]
     },
     "execution_count": 8,
     "metadata": {},
     "output_type": "execute_result"
    }
   ],
   "source": [
    "from sklearn.preprocessing import StandardScaler\n",
    "ss = StandardScaler()\n",
    "ss.fit(train_input)"
   ]
  },
  {
   "cell_type": "code",
   "execution_count": 9,
   "metadata": {},
   "outputs": [],
   "source": [
    "train_scaled = ss.transform(train_input)\n",
    "test_scaled = ss.transform(test_input)"
   ]
  },
  {
   "cell_type": "code",
   "execution_count": 10,
   "metadata": {},
   "outputs": [],
   "source": [
    "from sklearn.linear_model import SGDClassifier"
   ]
  },
  {
   "cell_type": "code",
   "execution_count": 11,
   "metadata": {},
   "outputs": [],
   "source": [
    "sgd = SGDClassifier(loss='log', max_iter=10, random_state=42)"
   ]
  },
  {
   "cell_type": "code",
   "execution_count": 12,
   "metadata": {},
   "outputs": [
    {
     "name": "stderr",
     "output_type": "stream",
     "text": [
      "/home/eunbinpark/miniconda3/envs/da/lib/python3.8/site-packages/sklearn/linear_model/_stochastic_gradient.py:570: ConvergenceWarning: Maximum number of iteration reached before convergence. Consider increasing max_iter to improve the fit.\n",
      "  warnings.warn(\"Maximum number of iteration reached before \"\n"
     ]
    },
    {
     "data": {
      "text/plain": [
       "SGDClassifier(loss='log', max_iter=10, random_state=42)"
      ]
     },
     "execution_count": 12,
     "metadata": {},
     "output_type": "execute_result"
    }
   ],
   "source": [
    "sgd.fit(train_scaled, train_target)"
   ]
  },
  {
   "cell_type": "markdown",
   "metadata": {},
   "source": [
    "#### Convergence Warning\n",
    "모델이 충분히 수렴하지 않았다는 경고 (오류가 아님)  "
   ]
  },
  {
   "cell_type": "code",
   "execution_count": 13,
   "metadata": {},
   "outputs": [
    {
     "data": {
      "text/plain": [
       "(0.773109243697479, 0.775)"
      ]
     },
     "execution_count": 13,
     "metadata": {},
     "output_type": "execute_result"
    }
   ],
   "source": [
    "sgd.score(train_scaled, train_target), sgd.score(test_scaled, test_target)"
   ]
  },
  {
   "cell_type": "markdown",
   "metadata": {},
   "source": [
    "`partial_fit()` 메서드로 모델 추가 훈련이 가능하다. `fit()`과 사용법이 같지만 호출 시마다 1에포크씩 이어 훈련이 가능하다.    "
   ]
  },
  {
   "cell_type": "code",
   "execution_count": 14,
   "metadata": {},
   "outputs": [
    {
     "data": {
      "text/plain": [
       "SGDClassifier(loss='log', max_iter=10, random_state=42)"
      ]
     },
     "execution_count": 14,
     "metadata": {},
     "output_type": "execute_result"
    }
   ],
   "source": [
    "sgd.partial_fit(train_scaled, train_target)"
   ]
  },
  {
   "cell_type": "code",
   "execution_count": 15,
   "metadata": {},
   "outputs": [
    {
     "data": {
      "text/plain": [
       "(0.8151260504201681, 0.825)"
      ]
     },
     "execution_count": 15,
     "metadata": {},
     "output_type": "execute_result"
    }
   ],
   "source": [
    "sgd.score(train_scaled, train_target), sgd.score(test_scaled, test_target)"
   ]
  },
  {
   "cell_type": "markdown",
   "metadata": {},
   "source": [
    "트레인셋 점수는 에포크가 진행될 수록 꾸준히 증가하지만, 테스트 셋 점수는 어느순간 감소한다. 두 사이의 최소점을 찾는게 목표!"
   ]
  },
  {
   "cell_type": "code",
   "execution_count": 16,
   "metadata": {},
   "outputs": [],
   "source": [
    "import numpy as np"
   ]
  },
  {
   "cell_type": "code",
   "execution_count": 26,
   "metadata": {},
   "outputs": [],
   "source": [
    "sgd = SGDClassifier(loss='log', random_state=42)"
   ]
  },
  {
   "cell_type": "code",
   "execution_count": 27,
   "metadata": {},
   "outputs": [
    {
     "data": {
      "text/plain": [
       "array(['Bream', 'Parkki', 'Perch', 'Pike', 'Roach', 'Smelt', 'Whitefish'],\n",
       "      dtype=object)"
      ]
     },
     "execution_count": 27,
     "metadata": {},
     "output_type": "execute_result"
    }
   ],
   "source": [
    "classes = np.unique(train_target)\n",
    "classes"
   ]
  },
  {
   "cell_type": "code",
   "execution_count": 28,
   "metadata": {
    "scrolled": true
   },
   "outputs": [
    {
     "name": "stdout",
     "output_type": "stream",
     "text": [
      "0 train score 0.5294117647058824 test score 0.65\n",
      "==============================\n",
      "1 train score 0.6218487394957983 test score 0.55\n",
      "==============================\n",
      "2 train score 0.6386554621848739 test score 0.575\n",
      "==============================\n",
      "3 train score 0.7310924369747899 test score 0.7\n",
      "==============================\n",
      "4 train score 0.7226890756302521 test score 0.7\n",
      "==============================\n",
      "5 train score 0.7310924369747899 test score 0.7\n",
      "==============================\n",
      "6 train score 0.7647058823529411 test score 0.725\n",
      "==============================\n",
      "7 train score 0.7310924369747899 test score 0.775\n",
      "==============================\n",
      "8 train score 0.8151260504201681 test score 0.825\n",
      "==============================\n",
      "9 train score 0.7478991596638656 test score 0.7\n",
      "==============================\n",
      "10 train score 0.8319327731092437 test score 0.825\n",
      "==============================\n",
      "11 train score 0.8151260504201681 test score 0.8\n",
      "==============================\n",
      "12 train score 0.8571428571428571 test score 0.85\n",
      "==============================\n",
      "13 train score 0.8571428571428571 test score 0.9\n",
      "==============================\n",
      "14 train score 0.8403361344537815 test score 0.85\n",
      "==============================\n",
      "15 train score 0.865546218487395 test score 0.9\n",
      "==============================\n",
      "16 train score 0.865546218487395 test score 0.9\n",
      "==============================\n",
      "17 train score 0.865546218487395 test score 0.9\n",
      "==============================\n",
      "18 train score 0.8739495798319328 test score 0.9\n",
      "==============================\n",
      "19 train score 0.8823529411764706 test score 0.9\n",
      "==============================\n",
      "20 train score 0.8739495798319328 test score 0.9\n",
      "==============================\n",
      "21 train score 0.865546218487395 test score 0.9\n",
      "==============================\n",
      "22 train score 0.8739495798319328 test score 0.9\n",
      "==============================\n",
      "23 train score 0.8823529411764706 test score 0.9\n",
      "==============================\n",
      "24 train score 0.8823529411764706 test score 0.9\n",
      "==============================\n",
      "25 train score 0.8823529411764706 test score 0.9\n",
      "==============================\n",
      "26 train score 0.8823529411764706 test score 0.9\n",
      "==============================\n",
      "27 train score 0.8823529411764706 test score 0.9\n",
      "==============================\n",
      "28 train score 0.8907563025210085 test score 0.9\n",
      "==============================\n",
      "29 train score 0.8907563025210085 test score 0.9\n",
      "==============================\n",
      "30 train score 0.8907563025210085 test score 0.9\n",
      "==============================\n",
      "31 train score 0.8907563025210085 test score 0.9\n",
      "==============================\n",
      "32 train score 0.8823529411764706 test score 0.9\n",
      "==============================\n",
      "33 train score 0.8823529411764706 test score 0.9\n",
      "==============================\n",
      "34 train score 0.8907563025210085 test score 0.9\n",
      "==============================\n",
      "35 train score 0.907563025210084 test score 0.9\n",
      "==============================\n",
      "36 train score 0.8991596638655462 test score 0.9\n",
      "==============================\n",
      "37 train score 0.8991596638655462 test score 0.9\n",
      "==============================\n",
      "38 train score 0.8991596638655462 test score 0.9\n",
      "==============================\n",
      "39 train score 0.8991596638655462 test score 0.9\n",
      "==============================\n",
      "40 train score 0.8991596638655462 test score 0.9\n",
      "==============================\n",
      "41 train score 0.907563025210084 test score 0.9\n",
      "==============================\n",
      "42 train score 0.907563025210084 test score 0.9\n",
      "==============================\n",
      "43 train score 0.907563025210084 test score 0.9\n",
      "==============================\n",
      "44 train score 0.907563025210084 test score 0.9\n",
      "==============================\n",
      "45 train score 0.9159663865546218 test score 0.9\n",
      "==============================\n",
      "46 train score 0.9159663865546218 test score 0.9\n",
      "==============================\n",
      "47 train score 0.9159663865546218 test score 0.9\n",
      "==============================\n",
      "48 train score 0.9243697478991597 test score 0.9\n",
      "==============================\n",
      "49 train score 0.9243697478991597 test score 0.9\n",
      "==============================\n",
      "50 train score 0.9243697478991597 test score 0.9\n",
      "==============================\n",
      "51 train score 0.9243697478991597 test score 0.9\n",
      "==============================\n",
      "52 train score 0.9243697478991597 test score 0.9\n",
      "==============================\n",
      "53 train score 0.9327731092436975 test score 0.9\n",
      "==============================\n",
      "54 train score 0.9327731092436975 test score 0.9\n",
      "==============================\n",
      "55 train score 0.9327731092436975 test score 0.9\n",
      "==============================\n",
      "56 train score 0.9327731092436975 test score 0.9\n",
      "==============================\n",
      "57 train score 0.9327731092436975 test score 0.9\n",
      "==============================\n",
      "58 train score 0.9411764705882353 test score 0.9\n",
      "==============================\n",
      "59 train score 0.9411764705882353 test score 0.9\n",
      "==============================\n",
      "60 train score 0.9411764705882353 test score 0.9\n",
      "==============================\n",
      "61 train score 0.9411764705882353 test score 0.9\n",
      "==============================\n",
      "62 train score 0.9411764705882353 test score 0.9\n",
      "==============================\n",
      "63 train score 0.9495798319327731 test score 0.9\n",
      "==============================\n",
      "64 train score 0.9495798319327731 test score 0.9\n",
      "==============================\n",
      "65 train score 0.9495798319327731 test score 0.9\n",
      "==============================\n",
      "66 train score 0.9495798319327731 test score 0.9\n",
      "==============================\n",
      "67 train score 0.9495798319327731 test score 0.925\n",
      "==============================\n",
      "68 train score 0.9495798319327731 test score 0.925\n",
      "==============================\n",
      "69 train score 0.9495798319327731 test score 0.925\n",
      "==============================\n",
      "70 train score 0.9411764705882353 test score 0.925\n",
      "==============================\n",
      "71 train score 0.9411764705882353 test score 0.925\n",
      "==============================\n",
      "72 train score 0.9411764705882353 test score 0.925\n",
      "==============================\n",
      "73 train score 0.9411764705882353 test score 0.925\n",
      "==============================\n",
      "74 train score 0.9411764705882353 test score 0.925\n",
      "==============================\n",
      "75 train score 0.9411764705882353 test score 0.925\n",
      "==============================\n",
      "76 train score 0.9411764705882353 test score 0.925\n",
      "==============================\n",
      "77 train score 0.9411764705882353 test score 0.925\n",
      "==============================\n",
      "78 train score 0.9411764705882353 test score 0.925\n",
      "==============================\n",
      "79 train score 0.9411764705882353 test score 0.925\n",
      "==============================\n",
      "80 train score 0.9411764705882353 test score 0.925\n",
      "==============================\n",
      "81 train score 0.9411764705882353 test score 0.925\n",
      "==============================\n",
      "82 train score 0.9411764705882353 test score 0.925\n",
      "==============================\n",
      "83 train score 0.9411764705882353 test score 0.925\n",
      "==============================\n",
      "84 train score 0.9411764705882353 test score 0.925\n",
      "==============================\n",
      "85 train score 0.9411764705882353 test score 0.925\n",
      "==============================\n",
      "86 train score 0.9411764705882353 test score 0.925\n",
      "==============================\n",
      "87 train score 0.9411764705882353 test score 0.925\n",
      "==============================\n",
      "88 train score 0.9411764705882353 test score 0.925\n",
      "==============================\n",
      "89 train score 0.9411764705882353 test score 0.925\n",
      "==============================\n",
      "90 train score 0.9411764705882353 test score 0.925\n",
      "==============================\n",
      "91 train score 0.9411764705882353 test score 0.925\n",
      "==============================\n",
      "92 train score 0.9411764705882353 test score 0.925\n",
      "==============================\n",
      "93 train score 0.9411764705882353 test score 0.925\n",
      "==============================\n",
      "94 train score 0.9411764705882353 test score 0.925\n",
      "==============================\n",
      "95 train score 0.9411764705882353 test score 0.925\n",
      "==============================\n",
      "96 train score 0.9411764705882353 test score 0.925\n",
      "==============================\n",
      "97 train score 0.9411764705882353 test score 0.925\n",
      "==============================\n",
      "98 train score 0.9411764705882353 test score 0.925\n",
      "==============================\n",
      "99 train score 0.9411764705882353 test score 0.925\n",
      "==============================\n",
      "100 train score 0.9411764705882353 test score 0.925\n",
      "==============================\n",
      "101 train score 0.9411764705882353 test score 0.925\n",
      "==============================\n",
      "102 train score 0.9411764705882353 test score 0.925\n",
      "==============================\n",
      "103 train score 0.9411764705882353 test score 0.925\n",
      "==============================\n",
      "104 train score 0.9411764705882353 test score 0.925\n",
      "==============================\n",
      "105 train score 0.9411764705882353 test score 0.925\n",
      "==============================\n",
      "106 train score 0.9411764705882353 test score 0.925\n",
      "==============================\n",
      "107 train score 0.9495798319327731 test score 0.925\n",
      "==============================\n",
      "108 train score 0.9495798319327731 test score 0.925\n",
      "==============================\n",
      "109 train score 0.9495798319327731 test score 0.925\n",
      "==============================\n",
      "110 train score 0.9495798319327731 test score 0.925\n",
      "==============================\n",
      "111 train score 0.9495798319327731 test score 0.925\n",
      "==============================\n",
      "112 train score 0.9495798319327731 test score 0.925\n",
      "==============================\n",
      "113 train score 0.9495798319327731 test score 0.925\n",
      "==============================\n",
      "114 train score 0.9495798319327731 test score 0.925\n",
      "==============================\n",
      "115 train score 0.9495798319327731 test score 0.925\n",
      "==============================\n",
      "116 train score 0.957983193277311 test score 0.925\n",
      "==============================\n",
      "117 train score 0.957983193277311 test score 0.925\n",
      "==============================\n",
      "118 train score 0.957983193277311 test score 0.925\n",
      "==============================\n",
      "119 train score 0.957983193277311 test score 0.925\n",
      "==============================\n",
      "120 train score 0.957983193277311 test score 0.925\n",
      "==============================\n",
      "121 train score 0.957983193277311 test score 0.925\n",
      "==============================\n",
      "122 train score 0.957983193277311 test score 0.925\n",
      "==============================\n",
      "123 train score 0.957983193277311 test score 0.925\n",
      "==============================\n",
      "124 train score 0.957983193277311 test score 0.925\n",
      "==============================\n",
      "125 train score 0.957983193277311 test score 0.925\n",
      "==============================\n",
      "126 train score 0.957983193277311 test score 0.925\n",
      "==============================\n"
     ]
    },
    {
     "name": "stdout",
     "output_type": "stream",
     "text": [
      "127 train score 0.957983193277311 test score 0.925\n",
      "==============================\n",
      "128 train score 0.957983193277311 test score 0.925\n",
      "==============================\n",
      "129 train score 0.957983193277311 test score 0.925\n",
      "==============================\n",
      "130 train score 0.957983193277311 test score 0.925\n",
      "==============================\n",
      "131 train score 0.957983193277311 test score 0.925\n",
      "==============================\n",
      "132 train score 0.957983193277311 test score 0.925\n",
      "==============================\n",
      "133 train score 0.957983193277311 test score 0.925\n",
      "==============================\n",
      "134 train score 0.957983193277311 test score 0.925\n",
      "==============================\n",
      "135 train score 0.957983193277311 test score 0.925\n",
      "==============================\n",
      "136 train score 0.957983193277311 test score 0.925\n",
      "==============================\n",
      "137 train score 0.957983193277311 test score 0.925\n",
      "==============================\n",
      "138 train score 0.957983193277311 test score 0.925\n",
      "==============================\n",
      "139 train score 0.957983193277311 test score 0.925\n",
      "==============================\n",
      "140 train score 0.957983193277311 test score 0.925\n",
      "==============================\n",
      "141 train score 0.957983193277311 test score 0.925\n",
      "==============================\n",
      "142 train score 0.957983193277311 test score 0.925\n",
      "==============================\n",
      "143 train score 0.957983193277311 test score 0.925\n",
      "==============================\n",
      "144 train score 0.957983193277311 test score 0.925\n",
      "==============================\n",
      "145 train score 0.957983193277311 test score 0.925\n",
      "==============================\n",
      "146 train score 0.957983193277311 test score 0.925\n",
      "==============================\n",
      "147 train score 0.957983193277311 test score 0.925\n",
      "==============================\n",
      "148 train score 0.957983193277311 test score 0.925\n",
      "==============================\n",
      "149 train score 0.957983193277311 test score 0.925\n",
      "==============================\n",
      "150 train score 0.957983193277311 test score 0.925\n",
      "==============================\n",
      "151 train score 0.957983193277311 test score 0.925\n",
      "==============================\n",
      "152 train score 0.957983193277311 test score 0.925\n",
      "==============================\n",
      "153 train score 0.957983193277311 test score 0.925\n",
      "==============================\n",
      "154 train score 0.957983193277311 test score 0.925\n",
      "==============================\n",
      "155 train score 0.957983193277311 test score 0.925\n",
      "==============================\n",
      "156 train score 0.957983193277311 test score 0.925\n",
      "==============================\n",
      "157 train score 0.957983193277311 test score 0.925\n",
      "==============================\n",
      "158 train score 0.957983193277311 test score 0.925\n",
      "==============================\n",
      "159 train score 0.957983193277311 test score 0.925\n",
      "==============================\n",
      "160 train score 0.957983193277311 test score 0.925\n",
      "==============================\n",
      "161 train score 0.957983193277311 test score 0.925\n",
      "==============================\n",
      "162 train score 0.957983193277311 test score 0.925\n",
      "==============================\n",
      "163 train score 0.957983193277311 test score 0.925\n",
      "==============================\n",
      "164 train score 0.957983193277311 test score 0.925\n",
      "==============================\n",
      "165 train score 0.957983193277311 test score 0.925\n",
      "==============================\n",
      "166 train score 0.957983193277311 test score 0.925\n",
      "==============================\n",
      "167 train score 0.957983193277311 test score 0.925\n",
      "==============================\n",
      "168 train score 0.957983193277311 test score 0.925\n",
      "==============================\n",
      "169 train score 0.957983193277311 test score 0.925\n",
      "==============================\n",
      "170 train score 0.957983193277311 test score 0.925\n",
      "==============================\n",
      "171 train score 0.957983193277311 test score 0.925\n",
      "==============================\n",
      "172 train score 0.957983193277311 test score 0.925\n",
      "==============================\n",
      "173 train score 0.957983193277311 test score 0.925\n",
      "==============================\n",
      "174 train score 0.957983193277311 test score 0.925\n",
      "==============================\n",
      "175 train score 0.957983193277311 test score 0.925\n",
      "==============================\n",
      "176 train score 0.957983193277311 test score 0.925\n",
      "==============================\n",
      "177 train score 0.957983193277311 test score 0.925\n",
      "==============================\n",
      "178 train score 0.957983193277311 test score 0.925\n",
      "==============================\n",
      "179 train score 0.957983193277311 test score 0.925\n",
      "==============================\n",
      "180 train score 0.957983193277311 test score 0.925\n",
      "==============================\n",
      "181 train score 0.957983193277311 test score 0.925\n",
      "==============================\n",
      "182 train score 0.957983193277311 test score 0.925\n",
      "==============================\n",
      "183 train score 0.957983193277311 test score 0.925\n",
      "==============================\n",
      "184 train score 0.957983193277311 test score 0.925\n",
      "==============================\n",
      "185 train score 0.957983193277311 test score 0.925\n",
      "==============================\n",
      "186 train score 0.957983193277311 test score 0.925\n",
      "==============================\n",
      "187 train score 0.957983193277311 test score 0.925\n",
      "==============================\n",
      "188 train score 0.957983193277311 test score 0.925\n",
      "==============================\n",
      "189 train score 0.957983193277311 test score 0.925\n",
      "==============================\n",
      "190 train score 0.957983193277311 test score 0.925\n",
      "==============================\n",
      "191 train score 0.957983193277311 test score 0.925\n",
      "==============================\n",
      "192 train score 0.957983193277311 test score 0.925\n",
      "==============================\n",
      "193 train score 0.957983193277311 test score 0.925\n",
      "==============================\n",
      "194 train score 0.957983193277311 test score 0.925\n",
      "==============================\n",
      "195 train score 0.957983193277311 test score 0.925\n",
      "==============================\n",
      "196 train score 0.957983193277311 test score 0.925\n",
      "==============================\n",
      "197 train score 0.957983193277311 test score 0.925\n",
      "==============================\n",
      "198 train score 0.957983193277311 test score 0.925\n",
      "==============================\n",
      "199 train score 0.957983193277311 test score 0.925\n",
      "==============================\n",
      "200 train score 0.957983193277311 test score 0.925\n",
      "==============================\n",
      "201 train score 0.957983193277311 test score 0.925\n",
      "==============================\n",
      "202 train score 0.957983193277311 test score 0.925\n",
      "==============================\n",
      "203 train score 0.957983193277311 test score 0.925\n",
      "==============================\n",
      "204 train score 0.957983193277311 test score 0.925\n",
      "==============================\n",
      "205 train score 0.957983193277311 test score 0.925\n",
      "==============================\n",
      "206 train score 0.957983193277311 test score 0.925\n",
      "==============================\n",
      "207 train score 0.957983193277311 test score 0.925\n",
      "==============================\n",
      "208 train score 0.957983193277311 test score 0.925\n",
      "==============================\n",
      "209 train score 0.957983193277311 test score 0.925\n",
      "==============================\n",
      "210 train score 0.957983193277311 test score 0.925\n",
      "==============================\n",
      "211 train score 0.957983193277311 test score 0.925\n",
      "==============================\n",
      "212 train score 0.957983193277311 test score 0.925\n",
      "==============================\n",
      "213 train score 0.957983193277311 test score 0.925\n",
      "==============================\n",
      "214 train score 0.957983193277311 test score 0.925\n",
      "==============================\n",
      "215 train score 0.957983193277311 test score 0.925\n",
      "==============================\n",
      "216 train score 0.957983193277311 test score 0.925\n",
      "==============================\n",
      "217 train score 0.957983193277311 test score 0.925\n",
      "==============================\n",
      "218 train score 0.957983193277311 test score 0.925\n",
      "==============================\n",
      "219 train score 0.957983193277311 test score 0.925\n",
      "==============================\n",
      "220 train score 0.957983193277311 test score 0.925\n",
      "==============================\n",
      "221 train score 0.957983193277311 test score 0.925\n",
      "==============================\n",
      "222 train score 0.957983193277311 test score 0.925\n",
      "==============================\n",
      "223 train score 0.957983193277311 test score 0.925\n",
      "==============================\n",
      "224 train score 0.957983193277311 test score 0.925\n",
      "==============================\n",
      "225 train score 0.957983193277311 test score 0.925\n",
      "==============================\n",
      "226 train score 0.957983193277311 test score 0.925\n",
      "==============================\n",
      "227 train score 0.957983193277311 test score 0.925\n",
      "==============================\n",
      "228 train score 0.957983193277311 test score 0.925\n",
      "==============================\n",
      "229 train score 0.957983193277311 test score 0.925\n",
      "==============================\n",
      "230 train score 0.957983193277311 test score 0.925\n",
      "==============================\n",
      "231 train score 0.957983193277311 test score 0.925\n",
      "==============================\n",
      "232 train score 0.957983193277311 test score 0.925\n",
      "==============================\n",
      "233 train score 0.957983193277311 test score 0.925\n",
      "==============================\n",
      "234 train score 0.957983193277311 test score 0.925\n",
      "==============================\n",
      "235 train score 0.957983193277311 test score 0.925\n",
      "==============================\n",
      "236 train score 0.957983193277311 test score 0.925\n",
      "==============================\n",
      "237 train score 0.957983193277311 test score 0.925\n",
      "==============================\n",
      "238 train score 0.957983193277311 test score 0.925\n",
      "==============================\n",
      "239 train score 0.957983193277311 test score 0.925\n",
      "==============================\n",
      "240 train score 0.957983193277311 test score 0.925\n",
      "==============================\n",
      "241 train score 0.957983193277311 test score 0.925\n",
      "==============================\n",
      "242 train score 0.957983193277311 test score 0.925\n",
      "==============================\n",
      "243 train score 0.957983193277311 test score 0.925\n",
      "==============================\n",
      "244 train score 0.957983193277311 test score 0.925\n",
      "==============================\n",
      "245 train score 0.957983193277311 test score 0.925\n",
      "==============================\n",
      "246 train score 0.957983193277311 test score 0.925\n",
      "==============================\n",
      "247 train score 0.957983193277311 test score 0.925\n",
      "==============================\n",
      "248 train score 0.957983193277311 test score 0.925\n",
      "==============================\n",
      "249 train score 0.957983193277311 test score 0.925\n",
      "==============================\n",
      "250 train score 0.957983193277311 test score 0.925\n",
      "==============================\n",
      "251 train score 0.957983193277311 test score 0.925\n",
      "==============================\n",
      "252 train score 0.957983193277311 test score 0.925\n",
      "==============================\n",
      "253 train score 0.957983193277311 test score 0.925\n",
      "==============================\n",
      "254 train score 0.957983193277311 test score 0.925\n",
      "==============================\n",
      "255 train score 0.957983193277311 test score 0.925\n",
      "==============================\n",
      "256 train score 0.957983193277311 test score 0.925\n",
      "==============================\n",
      "257 train score 0.957983193277311 test score 0.925\n",
      "==============================\n",
      "258 train score 0.957983193277311 test score 0.925\n",
      "==============================\n",
      "259 train score 0.957983193277311 test score 0.925\n",
      "==============================\n",
      "260 train score 0.957983193277311 test score 0.925\n",
      "==============================\n"
     ]
    },
    {
     "name": "stdout",
     "output_type": "stream",
     "text": [
      "261 train score 0.957983193277311 test score 0.925\n",
      "==============================\n",
      "262 train score 0.957983193277311 test score 0.925\n",
      "==============================\n",
      "263 train score 0.957983193277311 test score 0.925\n",
      "==============================\n",
      "264 train score 0.957983193277311 test score 0.925\n",
      "==============================\n",
      "265 train score 0.957983193277311 test score 0.925\n",
      "==============================\n",
      "266 train score 0.957983193277311 test score 0.925\n",
      "==============================\n",
      "267 train score 0.957983193277311 test score 0.925\n",
      "==============================\n",
      "268 train score 0.957983193277311 test score 0.925\n",
      "==============================\n",
      "269 train score 0.957983193277311 test score 0.925\n",
      "==============================\n",
      "270 train score 0.9663865546218487 test score 0.925\n",
      "==============================\n",
      "271 train score 0.9663865546218487 test score 0.925\n",
      "==============================\n",
      "272 train score 0.9663865546218487 test score 0.925\n",
      "==============================\n",
      "273 train score 0.9663865546218487 test score 0.925\n",
      "==============================\n",
      "274 train score 0.9663865546218487 test score 0.925\n",
      "==============================\n",
      "275 train score 0.9663865546218487 test score 0.925\n",
      "==============================\n",
      "276 train score 0.9663865546218487 test score 0.925\n",
      "==============================\n",
      "277 train score 0.9663865546218487 test score 0.925\n",
      "==============================\n",
      "278 train score 0.9663865546218487 test score 0.925\n",
      "==============================\n",
      "279 train score 0.9663865546218487 test score 0.925\n",
      "==============================\n",
      "280 train score 0.9663865546218487 test score 0.925\n",
      "==============================\n",
      "281 train score 0.9663865546218487 test score 0.925\n",
      "==============================\n",
      "282 train score 0.9663865546218487 test score 0.925\n",
      "==============================\n",
      "283 train score 0.9663865546218487 test score 0.925\n",
      "==============================\n",
      "284 train score 0.9663865546218487 test score 0.925\n",
      "==============================\n",
      "285 train score 0.9663865546218487 test score 0.925\n",
      "==============================\n",
      "286 train score 0.9663865546218487 test score 0.925\n",
      "==============================\n",
      "287 train score 0.9663865546218487 test score 0.925\n",
      "==============================\n",
      "288 train score 0.9663865546218487 test score 0.925\n",
      "==============================\n",
      "289 train score 0.9663865546218487 test score 0.925\n",
      "==============================\n",
      "290 train score 0.9663865546218487 test score 0.925\n",
      "==============================\n",
      "291 train score 0.9663865546218487 test score 0.925\n",
      "==============================\n",
      "292 train score 0.9663865546218487 test score 0.925\n",
      "==============================\n",
      "293 train score 0.9663865546218487 test score 0.925\n",
      "==============================\n",
      "294 train score 0.9663865546218487 test score 0.925\n",
      "==============================\n",
      "295 train score 0.9663865546218487 test score 0.925\n",
      "==============================\n",
      "296 train score 0.9663865546218487 test score 0.925\n",
      "==============================\n",
      "297 train score 0.9663865546218487 test score 0.925\n",
      "==============================\n",
      "298 train score 0.9663865546218487 test score 0.925\n",
      "==============================\n",
      "299 train score 0.9663865546218487 test score 0.925\n",
      "==============================\n"
     ]
    }
   ],
   "source": [
    "train_score, test_score = list(), list()\n",
    "for num in range(300):\n",
    "    sgd.partial_fit(train_scaled, train_target, classes = classes)\n",
    "    print(f'{num} train score {sgd.score(train_scaled, train_target)} test score {sgd.score(test_scaled, test_target)}')\n",
    "    train_score.append(sgd.score(train_scaled, train_target))\n",
    "    test_score.append(sgd.score(test_scaled, test_target))\n",
    "    print('=' * 30)"
   ]
  },
  {
   "cell_type": "code",
   "execution_count": 29,
   "metadata": {},
   "outputs": [],
   "source": [
    "import matplotlib.pyplot as plt"
   ]
  },
  {
   "cell_type": "code",
   "execution_count": 34,
   "metadata": {},
   "outputs": [
    {
     "data": {
      "text/plain": [
       "<matplotlib.legend.Legend at 0x7fd333494d00>"
      ]
     },
     "execution_count": 34,
     "metadata": {},
     "output_type": "execute_result"
    },
    {
     "data": {
      "image/png": "[encoded data removed]",
      "text/plain": [
       "<Figure size 432x288 with 1 Axes>"
      ]
     },
     "metadata": {
      "needs_background": "light"
     },
     "output_type": "display_data"
    }
   ],
   "source": [
    "plt.plot(train_score, label = 'train')\n",
    "plt.plot(test_score, label = 'test')\n",
    "plt.axvline(100, color='r')\n",
    "plt.legend()"
   ]
  },
  {
   "cell_type": "code",
   "execution_count": 36,
   "metadata": {},
   "outputs": [
    {
     "data": {
      "text/plain": [
       "(0.957983193277311, 0.925)"
      ]
     },
     "execution_count": 36,
     "metadata": {},
     "output_type": "execute_result"
    }
   ],
   "source": [
    "sgd = SGDClassifier(loss = 'log', max_iter=100, tol=None, random_state=42)\n",
    "sgd.fit(train_scaled, train_target)\n",
    "sgd.score(train_scaled, train_target), sgd.score(test_scaled, test_target)"
   ]
  },
  {
   "cell_type": "markdown",
   "metadata": {},
   "source": [
    "### 매개변수\n",
    "1. tol : 일정 에포크동안 성능이 향상되지 않으면 자동으로 멈추기 때문에, tol 매개변수에서 향상될 최솟값을 지정한다.\n",
    "2. loss : 여러 종류의 손실함수를 지정할 수 있다\n",
    "    - default value 'hinge' : SVM 알고리즘을 위한 손실함수"
   ]
  }
 ],
 "metadata": {
  "kernelspec": {
   "display_name": "da",
   "language": "python",
   "name": "da"
  },
  "language_info": {
   "codemirror_mode": {
    "name": "ipython",
    "version": 3
   },
   "file_extension": ".py",
   "mimetype": "text/x-python",
   "name": "python",
   "nbconvert_exporter": "python",
   "pygments_lexer": "ipython3",
   "version": "3.8.6"
  }
 },
 "nbformat": 4,
 "nbformat_minor": 4
}
